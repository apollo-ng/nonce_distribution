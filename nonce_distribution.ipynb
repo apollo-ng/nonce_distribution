{
 "cells": [
  {
   "cell_type": "markdown",
   "metadata": {},
   "source": [
    "# Nonce Distribution Study\n",
    "Noncesense Research Lab / Monero Archival Project\n",
    "\n",
    "Nov 2018\n",
    "\n",
    "This is a \"noncesense\" study into the empirically observed distribution of nonces in the Monero blockchain between the genesis block and height 1660413."
   ]
  },
  {
   "cell_type": "markdown",
   "metadata": {},
   "source": [
    "# Contributors\n",
    "-  Data: [NeptuneResearch](https://github.com/neptuneresearch)\n",
    "-  Analysis: [Isthmus](https://github.com/mitchellpkt)\n"
   ]
  },
  {
   "cell_type": "markdown",
   "metadata": {},
   "source": [
    "# Before reading this notebook...\n",
    "\n",
    "... pause for a moment and consider what you would expect to see.\n",
    "\n",
    "Miners test random nonce values between 0 and 2^32 to find one that produces a hash digest with output value below some threshhold defined by the network difficulty.\n",
    "\n",
    "For any given block, acceptable nonces are scattered throughout the allowed range, which miners are *presumably* sampling at random. So what patterns (or lack thereof) would you expect in the actual list of nonces reported on the blockchain?"
   ]
  },
  {
   "cell_type": "markdown",
   "metadata": {},
   "source": [
    "# Analysis"
   ]
  },
  {
   "cell_type": "markdown",
   "metadata": {},
   "source": [
    "## Import libraries"
   ]
  },
  {
   "cell_type": "code",
   "execution_count": 1,
   "metadata": {},
   "outputs": [],
   "source": [
    "import pandas as pd\n",
    "import numpy as np\n",
    "from matplotlib import mlab\n",
    "import matplotlib.pyplot as plt\n",
    "from scipy.stats import norm"
   ]
  },
  {
   "cell_type": "markdown",
   "metadata": {},
   "source": [
    "## Import data"
   ]
  },
  {
   "cell_type": "code",
   "execution_count": 2,
   "metadata": {},
   "outputs": [
    {
     "data": {
      "text/html": [
       "<div>\n",
       "<style scoped>\n",
       "    .dataframe tbody tr th:only-of-type {\n",
       "        vertical-align: middle;\n",
       "    }\n",
       "\n",
       "    .dataframe tbody tr th {\n",
       "        vertical-align: top;\n",
       "    }\n",
       "\n",
       "    .dataframe thead th {\n",
       "        text-align: right;\n",
       "    }\n",
       "</style>\n",
       "<table border=\"1\" class=\"dataframe\">\n",
       "  <thead>\n",
       "    <tr style=\"text-align: right;\">\n",
       "      <th></th>\n",
       "      <th>id</th>\n",
       "      <th>nonce</th>\n",
       "    </tr>\n",
       "  </thead>\n",
       "  <tbody>\n",
       "    <tr>\n",
       "      <th>count</th>\n",
       "      <td>1.660413e+06</td>\n",
       "      <td>1.660413e+06</td>\n",
       "    </tr>\n",
       "    <tr>\n",
       "      <th>mean</th>\n",
       "      <td>8.302070e+05</td>\n",
       "      <td>8.929277e+08</td>\n",
       "    </tr>\n",
       "    <tr>\n",
       "      <th>std</th>\n",
       "      <td>4.793201e+05</td>\n",
       "      <td>1.334711e+09</td>\n",
       "    </tr>\n",
       "    <tr>\n",
       "      <th>min</th>\n",
       "      <td>1.000000e+00</td>\n",
       "      <td>0.000000e+00</td>\n",
       "    </tr>\n",
       "    <tr>\n",
       "      <th>25%</th>\n",
       "      <td>4.151040e+05</td>\n",
       "      <td>3.832000e+03</td>\n",
       "    </tr>\n",
       "    <tr>\n",
       "      <th>50%</th>\n",
       "      <td>8.302070e+05</td>\n",
       "      <td>1.198900e+05</td>\n",
       "    </tr>\n",
       "    <tr>\n",
       "      <th>75%</th>\n",
       "      <td>1.245310e+06</td>\n",
       "      <td>1.717988e+09</td>\n",
       "    </tr>\n",
       "    <tr>\n",
       "      <th>max</th>\n",
       "      <td>1.660413e+06</td>\n",
       "      <td>4.294967e+09</td>\n",
       "    </tr>\n",
       "  </tbody>\n",
       "</table>\n",
       "</div>"
      ],
      "text/plain": [
       "                 id         nonce\n",
       "count  1.660413e+06  1.660413e+06\n",
       "mean   8.302070e+05  8.929277e+08\n",
       "std    4.793201e+05  1.334711e+09\n",
       "min    1.000000e+00  0.000000e+00\n",
       "25%    4.151040e+05  3.832000e+03\n",
       "50%    8.302070e+05  1.198900e+05\n",
       "75%    1.245310e+06  1.717988e+09\n",
       "max    1.660413e+06  4.294967e+09"
      ]
     },
     "execution_count": 2,
     "metadata": {},
     "output_type": "execute_result"
    }
   ],
   "source": [
    "df = pd.read_csv(\"./nonce_0_to_1660413.id.csv\")\n",
    "df.describe()"
   ]
  },
  {
   "cell_type": "markdown",
   "metadata": {},
   "source": [
    "## Plot the distribution of nonce values"
   ]
  },
  {
   "cell_type": "code",
   "execution_count": 3,
   "metadata": {},
   "outputs": [
    {
     "data": {
      "image/png": "[encoded data removed]",
      "text/plain": [
       "<Figure size 432x288 with 1 Axes>"
      ]
     },
     "metadata": {},
     "output_type": "display_data"
    }
   ],
   "source": [
    "plt.rcParams.update({'font.size': 15})\n",
    "plt.hist(df.nonce,bins=10);\n",
    "plt.title('Monero nonce distribution\\n(up to height 1,660,413)');\n",
    "plt.ylabel('Occurrences');\n",
    "plt.xlabel('Nonce value');"
   ]
  },
  {
   "cell_type": "markdown",
   "metadata": {},
   "source": [
    "### ^ That is not uniform!\n",
    "The above plot shows that the vast majority of nonce values are at the low end of the range.\n",
    "\n",
    "Let's zoom in on the nonce values on [0, 10^4]"
   ]
  },
  {
   "cell_type": "code",
   "execution_count": 4,
   "metadata": {},
   "outputs": [
    {
     "data": {
      "image/png": "[encoded data removed]",
      "text/plain": [
       "<Figure size 432x288 with 1 Axes>"
      ]
     },
     "metadata": {},
     "output_type": "display_data"
    }
   ],
   "source": [
    "plt.hist(df.nonce[df.nonce<1e4], bins=20);\n",
    "plt.title('Monero nonce distribution between [0, 10^4]');\n",
    "plt.ylabel('Occurrences');\n",
    "plt.xlabel('Nonce value');"
   ]
  },
  {
   "cell_type": "markdown",
   "metadata": {},
   "source": [
    "Observed nonce values are heavily concentrated toward the lower end of the allowed range! This is NOT what one would expect. \n",
    "\n",
    "Let's take a quick peek at the cumulative distribution function:"
   ]
  },
  {
   "cell_type": "code",
   "execution_count": 6,
   "metadata": {},
   "outputs": [
    {
     "data": {
      "image/png": "[encoded data removed]",
      "text/plain": [
       "<Figure size 720x360 with 1 Axes>"
      ]
     },
     "metadata": {},
     "output_type": "display_data"
    }
   ],
   "source": [
    "fig, ax = plt.subplots(figsize=(10, 5))\n",
    "bin_edges = bins=np.logspace(np.log10(1),np.log10(4294967296), 50)\n",
    "\n",
    "# plot the cumulative histogram\n",
    "n, bins, patches = ax.hist(df.nonce, bins=bin_edges, density=1, histtype='step',\n",
    "                           cumulative=True)\n",
    "\n",
    "ax.grid(True)\n",
    "ax.set_title('Observed cumulative distribution of nonces in Monero blocks\\n')\n",
    "ax.set_xlabel('Nonce value')\n",
    "ax.set_ylabel('CDF')\n",
    "ax.set_xscale('log')\n",
    "ax.set_xlim(1,4294967296)\n",
    "ax.set_ylim(0,1)\n",
    "plt.show()"
   ]
  },
  {
   "cell_type": "markdown",
   "metadata": {},
   "source": [
    "## Observations"
   ]
  },
  {
   "cell_type": "markdown",
   "metadata": {},
   "source": [
    "Despite a HUGE range of nonce values to choose from (between 1 and ~ 5x10^8) **more than half of the nonces on the blockchain come from the lowest 1% of the range that can be sampled!**\n",
    "\n",
    "### Two possible explanations: \n",
    "\n",
    "Possibility 1: (UNLIKELY) There is a bias in the distribution of acceptable nonce values. This is logically unlikely since the hash function probably has \"good\" properties and PoW uses the hash of the block contents alongside the nonce.\n",
    "\n",
    "Possibility 2: Miners are not sampling the space of nonce values randomly.\n",
    "\n",
    "Possibility two seems more likely, \n"
   ]
  }
 ],
 "metadata": {
  "kernelspec": {
   "display_name": "Python 3",
   "language": "python",
   "name": "python3"
  },
  "language_info": {
   "codemirror_mode": {
    "name": "ipython",
    "version": 3
   },
   "file_extension": ".py",
   "mimetype": "text/x-python",
   "name": "python",
   "nbconvert_exporter": "python",
   "pygments_lexer": "ipython3",
   "version": "3.6.5"
  }
 },
 "nbformat": 4,
 "nbformat_minor": 2
}
